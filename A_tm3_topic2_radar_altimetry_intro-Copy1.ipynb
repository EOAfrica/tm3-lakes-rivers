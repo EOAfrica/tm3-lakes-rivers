{
 "cells": [
  {
   "cell_type": "markdown",
   "id": "575160a3-c96d-4787-b2cf-4ecc78761735",
   "metadata": {
    "tags": []
   },
   "source": [
    "<img src=\"media/eoafrica.png\" width=\"200px\"></img>\n",
    "# Radar altimetry measurement principle \n"
   ]
  },
  {
   "cell_type": "code",
   "execution_count": null,
   "id": "18e25222-3ecb-4f22-91c9-2e607ac9c93d",
   "metadata": {},
   "outputs": [],
   "source": []
  },
  {
   "cell_type": "markdown",
   "id": "9a32717e-b795-4254-a1b1-efaa7cdc8326",
   "metadata": {},
   "source": [
    "## Show case 1:"
   ]
  }
 ],
 "metadata": {
  "kernelspec": {
   "display_name": "Python 3 (ipykernel)",
   "language": "python",
   "name": "python3"
  },
  "language_info": {
   "codemirror_mode": {
    "name": "ipython",
    "version": 3
   },
   "file_extension": ".py",
   "mimetype": "text/x-python",
   "name": "python",
   "nbconvert_exporter": "python",
   "pygments_lexer": "ipython3",
   "version": "3.9.7"
  }
 },
 "nbformat": 4,
 "nbformat_minor": 5
}
