{
 "cells": [
  {
   "cell_type": "markdown",
   "id": "575160a3-c96d-4787-b2cf-4ecc78761735",
   "metadata": {
    "tags": []
   },
   "source": [
    "<img src=\"media/eoafrica.png\" width=\"200px\"></img>\n",
    "Author: R. Rietbroek, autumn 2021case\n",
    "\n",
    "#  Radar altimetry for rivers and lakes\n",
    "In this article you'll learn how the levels of rivers and lakes can be observed with radar altimetry missions from space. Furthermore, you'll learn about the ongoing advances in state of the art research to monitor inland waters. You'll initially get acquainted with the principles of radar altimetry, and will understand why the observation of surface waters is more challenging compared to oceanic applications for which the missions were originally designed for.\n",
    "\n",
    "## Water monitoring from space\n",
    "Inland waters such as a lakes and rivers are a critical water resource for many of the worlds regions. Furthermore, in the form of waterways, they play an important role for the transport of goods and people. Interventions, such as the building of reservoirs for hydrolelectricity and agriculture, alter the flow regime of rivers, which may have economical advantages but at the same time have ecological consequences. The increase in surface water areas also have the potential to increase evaporation, and can therefore alter the water cycle.\n",
    "A sustainable use of (surface) water resources is therefore essential, but can only be done with adequate monitoring of surface waters.  It is further complicated by acknowledging that groundwater is often depleted as an alternative when surface water sources get sparse.\n",
    "\n",
    "<img src=\"media/NileImaggeoKBigge.webp\" width=\"400px\"></img>\n",
    "\n",
    "*In the arid areas of northern Africa, the zones next to the Nile are cultivated but crucially depend on water from the river Nile. Credit: Katja Bigge (distributed via https://imaggeo.egu.eu/view/14636/)*\n",
    "\n",
    "The use of space-based techniques promises, besides consistency of measurements, also observations of remote upstream areas. As covered by *TM5 - EO for floods, water bodies and wetlands*, optical remote sensing is a valuable tool to observe the time-varying extent of surface waters. However there is also the opportunity to observe water levels from space by making use of active radar measurements."
   ]
  },
  {
   "cell_type": "markdown",
   "id": "de4d1047-0250-46cc-929c-4358bcbbf0f2",
   "metadata": {},
   "source": [
    "# The radar altimetry record (1990's - present)\n",
    "<img src=\"media/AltTimeline.jpg\" width=\"400px\"> </img>\n",
    "\n",
    "*Since the 1990's, an array of radar altimeter missions have been deployed allowing studies of the ocean, ice sheets and surface waters source: Abdalla et al. 2021 https://www.sciencedirect.com/science/article/pii/S0273117721000594*\n",
    "\n",
    "There are multiple radar altimetry missions which can potentially provide observations of inland water heights. The different missions may have varying orbit-configurations, which has implications for the coverage in space and time. For water sensing purposes, the radar altimeters have been employing a nadir-pointing active radar. When the altimeters cross a river or lake, and the surface area of the water is large enough, as observation of the water level can be made. Such a crossing point, in combination with a water level measurement is usually denoted as a **virtual station**. Some of the altimeters have a so-called repeat orbit, which results in a repetition of the groundtrack pattern after a certain period of time (revisit times). The revisit time of altimeter missions typically ranges from 10 days (TOPEX-like) to longer,e.g. 35 days (Envisat), or even 369 days (Cryosat-2). \n",
    "\n",
    "Maintaining the satellites in their repeat orbit requires regular orbit manoevres, which requires sufficient on-board fuel. Often, at the end of their lifetimes, the missions will be put into a freely drifting orbit (geodetic orbit), allowing them to provide observations in between the repeat groundtracks. These datasets are valuable for e.g. the determination of slowly changing phenomena such as the ocean bathymetry, the mean sea surface, and smaller geographic features such as sea mounts which may have not been covered by the initial repeat period. Another strategy is to put the satellites in a so called interleaved-orbit, which allows multiple missions to fly at the same time with an increased spatial coverage.\n",
    "\n",
    "# Example study: Virtual stations from radar altimetry in the Ogooue Basin (Gabon)\n",
    "Bogning et al. 2018 studied the altimeter coverage in time and space in the Ogooue Basin. They furthermore compared the observations with in situ river gauge observations. They find that, over time the accuracy of the data from the virtual stations improved. Additionally, they also evaluated the much denser coverage as obtained by the cryosat-2 mission, and used a composite series with data from multi-mission records. \n",
    "\n",
    "From the image, you can get an impression of the groundtrack coverage over the Oguooue basin, and thus the potential of obtaining river stage estimates. The use of cryosat-2 furthermore increases the amount of potential virtual stations at the cost of the time resolution.\n",
    "\n",
    "<img src=\"media/remotesensing-10-00350-g001.png\" width=\"400px\"></img>\n",
    "*The monitoring of inland waters by using radar altimetry missions is a compromise between temporal resolution and spatial coverage. For Ogooue river basin (Gabon), Altimetry  groundtracks from Jason-like missions allow for 10 day revisit times, whereas Cryosat-2 groundtracks could provide a better spatial coverage at the cost of long revisit times. Source Bogning et al. 2018: https://www.mdpi.com/2072-4292/10/2/350/htm*\n",
    "\n",
    "\n",
    "<img src=\"media/cryosat2_vs_Lambarene.jpg\" width=\"400px\"></img>\n",
    "*Using Cryosat-2 virtual stations in the vicinity of the river gauge at Lambarene, shows a high agreement of the river stages with he ground truth observations.the The approximate error of retrieval lies at 25 cm. Source Bogning et al. 2018: https://www.mdpi.com/2072-4292/10/2/350/htm*"
   ]
  },
  {
   "cell_type": "markdown",
   "id": "7ec85a78-782b-4f0b-b5a4-0b3a5c60f874",
   "metadata": {},
   "source": [
    "# Radar altimetry measurement principle\n",
    "Before diving in the details of inland water monitoring, let's recap the measurement principle of radar altimetry.\n",
    "\n",
    "<img src=\"media/methode_en.jpg\" width=\"400px\"><img>\n",
    "*(Credits CNES/D. Ducros)*\n",
    "\n",
    "In essence, there are two observables which need to be known to perform radar altimetry. The **range between the satellite and the reflecting surface** need to be observed, and the *orbit height* above a reference surface need to be determined.\n",
    "\n",
    "## Pulse limited\n",
    "\n",
    "\n",
    "## Sar altimetry (or delayed-doppler altimetry)\n",
    "\n",
    "<img src=\"media/delay_doppler_altimetry_vs_radar_altimetry_02.png\" width=\"400px\"></img>\n",
    "* Aviso*\n"
   ]
  },
  {
   "cell_type": "markdown",
   "id": "0eed7b60-f516-4bd2-b137-8c0c6cda711a",
   "metadata": {},
   "source": [
    "# Chirps and retracking\n",
    "\n",
    "<img src=\"media/5.2-COASTALT_webstory_fig1.gif\" width=\"400px\"></img>\n",
    "*COASTALT portal*"
   ]
  },
  {
   "cell_type": "markdown",
   "id": "55925dca-cd4c-4002-b512-4649ca6a8c5a",
   "metadata": {},
   "source": [
    "# Understanding chirps\n",
    "\n",
    "# Corrections\n",
    "## Instrumental\n",
    "## Geophysical"
   ]
  },
  {
   "cell_type": "code",
   "execution_count": 6,
   "id": "b50f99ed-6320-44a2-9118-dbf3e7ce1e59",
   "metadata": {},
   "outputs": [
    {
     "data": {
      "application/vnd.jupyter.widget-view+json": {
       "model_id": "fb202877372849019157f9a546ee052a",
       "version_major": 2,
       "version_minor": 0
      },
      "text/plain": [
       "Canvas(toolbar=Toolbar(toolitems=[('Home', 'Reset original view', 'home', 'home'), ('Back', 'Back to previous …"
      ]
     },
     "metadata": {},
     "output_type": "display_data"
    }
   ],
   "source": [
    "from IPython.display import Audio\n",
    "import numpy as np\n",
    "import math\n",
    "import cmath\n",
    "import matplotlib.pyplot as plt\n",
    "import scipy.io.wavfile as wavfile # Case study: Virtual stations from radar altimetry in the Ogooue Basin\n",
    "%matplotlib widget\n",
    "sr = 22050 # sample rate\n",
    "T = 3.0    # duration of the chirp in seconds\n",
    "t = np.linspace(0, T, int(T*sr), endpoint=False)\n",
    "\n",
    "freq0=1000\n",
    "freq1=100\n",
    "\n",
    "B=1000 # frequency band of he chirp (freq changes from 0 to B in 3 seconds)\n",
    "k=(B)/(2*T)\n",
    "\n",
    "framp= np.linspace(freq0, freq1, int(T*sr), endpoint=False)\n",
    "dt=2\n",
    "\n",
    "chirpc=np.array([ cmath.rect(1,np.pi*(-k*(tm**2)+B*tm)) for tm in t])\n",
    "chirpc_return=np.array([ cmath.rect(1,np.pi*(-k*(tm**2)+B*tm)) for tm in t+dt])\n",
    "\n",
    "\n",
    "# chirpc=np.array([ cmath.rect(1,-2*np.pi*phi) for phi in framp*t]) \n",
    "# chirpc_return=np.array([ cmath.rect(1,-2*np.pi*phi*(tm+dt)) for phi,tm in zip(framp,t)]) \n",
    "\n",
    "dt=1\n",
    "chirp = np.sin(2*np.pi*framp*t)\n",
    "returnchirp = np.sin(2*np.pi*framp*(t+dt))\n",
    "\n",
    "chirpmerge=chirpc*chirpc_return.conjugate()\n",
    "dmargin=math.ceil(sr*dt)\n",
    "\n",
    "# plt.plot(t,chirpmerge.real)\n",
    "# plt.plot(t,chirpc.real)\n",
    "plt.plot(t,chirpmerge.real)\n",
    "Audio(chirpmerge.real, rate=sr)\n",
    "# Audio(chirpc.real, rate=sr)\n",
    "\n",
    "#equivalent pulse bandwidth 1/chirpwidth e.g. 1/320Mhz -> 3ns\n",
    "\n",
    "\n",
    "# write sounds to wav files too \n",
    "wavfile.write('media/send_chirp.wav',sr,chirp.real)\n",
    "wavfile.write('media/mixed_chirp.wav',sr,chirpmerge.real)\n",
    "\n"
   ]
  },
  {
   "cell_type": "markdown",
   "id": "7072d32c-4f60-4208-8563-e4a44cf1ed18",
   "metadata": {},
   "source": [
    "# Further reading\n",
    "* The [radar altimetry tutorial & toolbox](http://www.altimetry.info/) provides an excellent resource for radar altimetry workings and missions "
   ]
  }
 ],
 "metadata": {
  "kernelspec": {
   "display_name": "pyrr",
   "language": "python",
   "name": "pyrr"
  },
  "language_info": {
   "codemirror_mode": {
    "name": "ipython",
    "version": 3
   },
   "file_extension": ".py",
   "mimetype": "text/x-python",
   "name": "python",
   "nbconvert_exporter": "python",
   "pygments_lexer": "ipython3",
   "version": "3.9.9"
  }
 },
 "nbformat": 4,
 "nbformat_minor": 5
}
