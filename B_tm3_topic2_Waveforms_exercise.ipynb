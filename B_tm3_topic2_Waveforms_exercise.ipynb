{
 "cells": [
  {
   "cell_type": "markdown",
   "id": "575160a3-c96d-4787-b2cf-4ecc78761735",
   "metadata": {},
   "source": [
    "<img src=\"media/eoafrica.png\" width=\"200px\"></img>\n",
    "\n",
    "Author: R. Rietbroek, Jan 2022\n",
    "\n",
    "# Evaluating waveforms over Lake Turkana (Kenya)"
   ]
  },
  {
   "cell_type": "markdown",
   "id": "9a32717e-b795-4254-a1b1-efaa7cdc8326",
   "metadata": {},
   "source": [
    "1. get appropriate satellite, cycle and pass/orbits\n",
    "Download or symlink altimetry data"
   ]
  }
 ],
 "metadata": {
  "kernelspec": {
   "display_name": "Python 3 (ipykernel)",
   "language": "python",
   "name": "python3"
  },
  "language_info": {
   "codemirror_mode": {
    "name": "ipython",
    "version": 3
   },
   "file_extension": ".py",
   "mimetype": "text/x-python",
   "name": "python",
   "nbconvert_exporter": "python",
   "pygments_lexer": "ipython3",
   "version": "3.8.10"
  }
 },
 "nbformat": 4,
 "nbformat_minor": 5
}
